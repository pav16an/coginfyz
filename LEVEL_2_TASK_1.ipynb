{
  "nbformat": 4,
  "nbformat_minor": 0,
  "metadata": {
    "colab": {
      "provenance": [],
      "mount_file_id": "10sMgH8zlm-4OSMqCMwOWRvxbAWSUuoHA",
      "authorship_tag": "ABX9TyMR2E2zfrUEvEYWrL7TQjxt",
      "include_colab_link": true
    },
    "kernelspec": {
      "name": "python3",
      "display_name": "Python 3"
    },
    "language_info": {
      "name": "python"
    }
  },
  "cells": [
    {
      "cell_type": "markdown",
      "metadata": {
        "id": "view-in-github",
        "colab_type": "text"
      },
      "source": [
        "<a href=\"https://colab.research.google.com/github/pav16an/coginfyz/blob/main/LEVEL_2_TASK_1.ipynb\" target=\"_parent\"><img src=\"https://colab.research.google.com/assets/colab-badge.svg\" alt=\"Open In Colab\"/></a>"
      ]
    },
    {
      "cell_type": "markdown",
      "source": [
        "# LEVEL-2"
      ],
      "metadata": {
        "id": "jh8LfuQXqTj6"
      }
    },
    {
      "cell_type": "code",
      "source": [
        "#TASK-1:Restaurant Ratings\n",
        "\n",
        "import pandas as pd\n",
        "\n",
        "df = pd.read_csv(\"/content/drive/MyDrive/Dataset.csv\")"
      ],
      "metadata": {
        "id": "X7obJpPZqb_w"
      },
      "execution_count": 22,
      "outputs": []
    },
    {
      "cell_type": "code",
      "source": [
        "rating_ranges = df[\"Aggregate rating\"].value_counts().reset_index(name=\"Count\")\n",
        "rating_ranges[\"Rating range\"] = rating_ranges[\"index\"].apply(lambda x: \"{}-{}\".format(x - 0.5, x + 0.5))\n",
        "most_common_rating_range = rating_ranges[\"Rating range\"].iloc[0]\n",
        "print(rating_ranges)\n",
        "print(most_common_rating_range)"
      ],
      "metadata": {
        "id": "1Bgy9cQoux0A"
      },
      "execution_count": null,
      "outputs": []
    },
    {
      "cell_type": "code",
      "source": [
        "#Getting average number of votes\n",
        "average_number_of_votes = df[\"Votes\"].mean()\n",
        "print(average_number_of_votes)"
      ],
      "metadata": {
        "colab": {
          "base_uri": "https://localhost:8080/"
        },
        "id": "1iUinc0XyYxu",
        "outputId": "8604e547-4396-4406-8d61-b6b96e12d71c"
      },
      "execution_count": 45,
      "outputs": [
        {
          "output_type": "stream",
          "name": "stdout",
          "text": [
            "156.909747670401\n"
          ]
        }
      ]
    },
    {
      "cell_type": "code",
      "source": [
        "print(\"Most common rating range: {}\".format(most_common_rating_range))\n",
        "print(\"Average number of votes: {}\".format(average_number_of_votes))"
      ],
      "metadata": {
        "colab": {
          "base_uri": "https://localhost:8080/"
        },
        "id": "ktjQHNkHykyM",
        "outputId": "a9f87f2f-bf51-4526-ca7f-1723df213473"
      },
      "execution_count": 46,
      "outputs": [
        {
          "output_type": "stream",
          "name": "stdout",
          "text": [
            "Most common rating range: -0.5-0.5\n",
            "Average number of votes: 156.909747670401\n"
          ]
        }
      ]
    }
  ]
}