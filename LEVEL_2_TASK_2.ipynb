{
  "nbformat": 4,
  "nbformat_minor": 0,
  "metadata": {
    "colab": {
      "provenance": [],
      "mount_file_id": "10sMgH8zlm-4OSMqCMwOWRvxbAWSUuoHA",
      "authorship_tag": "ABX9TyNrkiPzceOf1nYjPIKyD1fb",
      "include_colab_link": true
    },
    "kernelspec": {
      "name": "python3",
      "display_name": "Python 3"
    },
    "language_info": {
      "name": "python"
    }
  },
  "cells": [
    {
      "cell_type": "markdown",
      "metadata": {
        "id": "view-in-github",
        "colab_type": "text"
      },
      "source": [
        "<a href=\"https://colab.research.google.com/github/pav16an/coginfyz/blob/main/LEVEL_2_TASK_2.ipynb\" target=\"_parent\"><img src=\"https://colab.research.google.com/assets/colab-badge.svg\" alt=\"Open In Colab\"/></a>"
      ]
    },
    {
      "cell_type": "markdown",
      "source": [
        "# LEVEL-2"
      ],
      "metadata": {
        "id": "jh8LfuQXqTj6"
      }
    },
    {
      "cell_type": "code",
      "source": [
        "#TASK-1:Restaurant Ratings\n",
        "\n",
        "import pandas as pd\n",
        "\n",
        "df = pd.read_csv(\"/content/drive/MyDrive/Dataset.csv\")"
      ],
      "metadata": {
        "id": "X7obJpPZqb_w"
      },
      "execution_count": 22,
      "outputs": []
    },
    {
      "cell_type": "code",
      "source": [
        "#Identifies the most common combinations of cuisines in the dataset\n",
        "df_cleaned = df.dropna(subset=[\"Cuisines\"])\n",
        "cuisines = df_cleaned[\"Cuisines\"].str.split(\", \")\n",
        "cuisine_combinations = []\n",
        "for cuisine_list in cuisines:\n",
        "    for i in range(len(cuisine_list)):\n",
        "        for j in range(i + 1, len(cuisine_list)):\n",
        "            cuisine_combinations.append((cuisine_list[i], cuisine_list[j]))\n",
        "cuisine_combinations = list(map(lambda x: (x[0], x[1]), cuisine_combinations))\n",
        "cuisine_combinations = pd.DataFrame(cuisine_combinations, columns=[\"Cuisine 1\", \"Cuisine 2\"])\n",
        "cuisine_combinations = cuisine_combinations.value_counts().reset_index(name=\"Count\")\n",
        "print(cuisine_combinations)"
      ],
      "metadata": {
        "colab": {
          "base_uri": "https://localhost:8080/"
        },
        "id": "lMS-YSQqziIL",
        "outputId": "796cf1c7-155d-454d-96dc-6d99aa4a8015"
      },
      "execution_count": 49,
      "outputs": [
        {
          "output_type": "stream",
          "name": "stdout",
          "text": [
            "          Cuisine 1     Cuisine 2  Count\n",
            "0      North Indian       Chinese   1516\n",
            "1      North Indian       Mughlai    728\n",
            "2      North Indian     Fast Food    377\n",
            "3           Chinese     Fast Food    331\n",
            "4      North Indian  South Indian    314\n",
            "...             ...           ...    ...\n",
            "1574         German   Continental      1\n",
            "1575         German     Ice Cream      1\n",
            "1576         German      Sandwich      1\n",
            "1577           Goan      American      1\n",
            "1578  World Cuisine    Patisserie      1\n",
            "\n",
            "[1579 rows x 3 columns]\n"
          ]
        }
      ]
    },
    {
      "cell_type": "code",
      "source": [
        "#Determines if certain cuisine combinations tend to have higher ratings\n",
        "cuisine_combinations_with_ratings = cuisine_combinations[cuisine_combinations[\"Count\"] > 1]\n",
        "average_ratings = []\n",
        "for cuisine_combination in cuisine_combinations_with_ratings.index:\n",
        "    cuisine_1 = cuisine_combinations[\"Cuisine 1\"]\n",
        "    cuisine_2 = cuisine_combinations[\"Cuisine 2\"]\n",
        "    filtered_df = df[(df[\"Cuisines\"].isin(cuisine_1)) & (df[\"Cuisines\"].isin(cuisine_2))]\n",
        "    average_rating = filtered_df[\"Aggregate rating\"].mean()\n",
        "    #average_ratings.append((cuisine_combination, average_rating))\n",
        "print(average_rating)\n",
        "#for cuisine_combination, average_rating in average_ratings:\n",
        "#   print(\"{}: {}\".format(cuisine_combination, average_rating))"
      ],
      "metadata": {
        "colab": {
          "base_uri": "https://localhost:8080/"
        },
        "id": "8S0LjAstztTm",
        "outputId": "8d527099-c3f2-48a4-8e6f-fa2ff8ddf4fa"
      },
      "execution_count": 48,
      "outputs": [
        {
          "output_type": "stream",
          "name": "stdout",
          "text": [
            "2.2269151138716357\n"
          ]
        }
      ]
    }
  ]
}