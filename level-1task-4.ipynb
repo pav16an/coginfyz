{
 "cells": [
  {
   "cell_type": "code",
   "execution_count": 1,
   "id": "c3a3de45",
   "metadata": {},
   "outputs": [],
   "source": [
    "import pandas as pd\n",
    "df = pd.read_csv(r\"P:\\videos\\Dataset.csv\")"
   ]
  },
  {
   "cell_type": "code",
   "execution_count": 2,
   "id": "e3151f4a",
   "metadata": {},
   "outputs": [
    {
     "name": "stdout",
     "output_type": "stream",
     "text": [
      "25.662234321013504\n"
     ]
    }
   ],
   "source": [
    "#Gives the percentage of restaurants that offer online delivery\n",
    "delivery_yes = df[df[\"Has Online delivery\"] == \"Yes\"]\n",
    "delivery_no = df[df[\"Has Online delivery\"] == \"No\"]\n",
    "percentage_with_delivery = len(delivery_yes) / len(df) * 100\n",
    "print(percentage_with_delivery)"
   ]
  },
  {
   "cell_type": "code",
   "execution_count": 3,
   "id": "36b18790",
   "metadata": {},
   "outputs": [
    {
     "name": "stdout",
     "output_type": "stream",
     "text": [
      "3.2488372093023257 2.465295774647887\n"
     ]
    }
   ],
   "source": [
    "#Gives the average ratings of restaurants with and without online delivery\n",
    "delivery_yes = df[df[\"Has Online delivery\"] == \"Yes\"]\n",
    "delivery_no = df[df[\"Has Online delivery\"] == \"No\"]\n",
    "average_rating_with_delivery = delivery_yes[\"Aggregate rating\"].mean()\n",
    "average_rating_without_delivery = delivery_no[\"Aggregate rating\"].mean()\n",
    "print(average_rating_with_delivery, average_rating_without_delivery)"
   ]
  },
  {
   "cell_type": "code",
   "execution_count": 6,
   "id": "fdf08e8d",
   "metadata": {},
   "outputs": [
    {
     "name": "stdout",
     "output_type": "stream",
     "text": [
      "Percentage of restaurants with online delivery: 25.662234321013504%\n",
      "Average rating of restaurants with online delivery: 3.2488372093023257\n",
      "Average rating of restaurants without online delivery: 2.465295774647887\n"
     ]
    }
   ],
   "source": [
    "print(f\"Percentage of restaurants with online delivery: {percentage_with_delivery}%\")\n",
    "print(f\"Average rating of restaurants with online delivery: {average_rating_with_delivery}\")\n",
    "print(f\"Average rating of restaurants without online delivery: {average_rating_without_delivery}\")"
   ]
  },
  {
   "cell_type": "code",
   "execution_count": null,
   "id": "7a8bd148",
   "metadata": {},
   "outputs": [],
   "source": []
  }
 ],
 "metadata": {
  "kernelspec": {
   "display_name": "Python 3 (ipykernel)",
   "language": "python",
   "name": "python3"
  },
  "language_info": {
   "codemirror_mode": {
    "name": "ipython",
    "version": 3
   },
   "file_extension": ".py",
   "mimetype": "text/x-python",
   "name": "python",
   "nbconvert_exporter": "python",
   "pygments_lexer": "ipython3",
   "version": "3.11.4"
  }
 },
 "nbformat": 4,
 "nbformat_minor": 5
}
