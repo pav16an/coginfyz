{
  "nbformat": 4,
  "nbformat_minor": 0,
  "metadata": {
    "colab": {
      "provenance": [],
      "mount_file_id": "10sMgH8zlm-4OSMqCMwOWRvxbAWSUuoHA",
      "authorship_tag": "ABX9TyNCx9peVnUAqGthSHpkoV06",
      "include_colab_link": true
    },
    "kernelspec": {
      "name": "python3",
      "display_name": "Python 3"
    },
    "language_info": {
      "name": "python"
    }
  },
  "cells": [
    {
      "cell_type": "markdown",
      "metadata": {
        "id": "view-in-github",
        "colab_type": "text"
      },
      "source": [
        "<a href=\"https://colab.research.google.com/github/pav16an/coginfyz/blob/main/LEVEL_2_TASK_4.ipynb\" target=\"_parent\"><img src=\"https://colab.research.google.com/assets/colab-badge.svg\" alt=\"Open In Colab\"/></a>"
      ]
    },
    {
      "cell_type": "markdown",
      "source": [
        "# LEVEL-2"
      ],
      "metadata": {
        "id": "jh8LfuQXqTj6"
      }
    },
    {
      "cell_type": "code",
      "source": [
        "#TASK-4:Restaurant Ratings\n",
        "\n",
        "import pandas as pd\n",
        "df = pd.read_csv(\"/content/drive/MyDrive/Dataset.csv\")"
      ],
      "metadata": {
        "id": "X7obJpPZqb_w"
      },
      "execution_count": 54,
      "outputs": []
    },
    {
      "cell_type": "code",
      "source": [
        "#Gives the percentage of restaurants that offer online delivery\n",
        "delivery_yes = df[df[\"Has Online delivery\"] == \"Yes\"]\n",
        "delivery_no = df[df[\"Has Online delivery\"] == \"No\"]\n",
        "percentage_with_delivery = len(delivery_yes) / len(df) * 100\n",
        "print(percentage_with_delivery)"
      ],
      "metadata": {
        "colab": {
          "base_uri": "https://localhost:8080/"
        },
        "id": "wrnvF09J2DFU",
        "outputId": "7b5a3297-c6b9-410b-98f1-2fba41372357"
      },
      "execution_count": 56,
      "outputs": [
        {
          "output_type": "stream",
          "name": "stdout",
          "text": [
            "25.662234321013504\n"
          ]
        }
      ]
    },
    {
      "cell_type": "code",
      "source": [
        "#Gives the average ratings of restaurants with and without online delivery\n",
        "delivery_yes = df[df[\"Has Online delivery\"] == \"Yes\"]\n",
        "delivery_no = df[df[\"Has Online delivery\"] == \"No\"]\n",
        "average_rating_with_delivery = delivery_yes[\"Aggregate rating\"].mean()\n",
        "average_rating_without_delivery = delivery_no[\"Aggregate rating\"].mean()\n",
        "print(average_rating_with_delivery, average_rating_without_delivery)"
      ],
      "metadata": {
        "colab": {
          "base_uri": "https://localhost:8080/"
        },
        "id": "RZ5erYTp2Vzn",
        "outputId": "28227566-5de4-4858-943c-98b3204ab1b5"
      },
      "execution_count": 57,
      "outputs": [
        {
          "output_type": "stream",
          "name": "stdout",
          "text": [
            "3.2488372093023257 2.465295774647887\n"
          ]
        }
      ]
    },
    {
      "cell_type": "code",
      "source": [
        "print(f\"Percentage of restaurants with online delivery: {percentage_with_delivery}%\")\n",
        "print(f\"Average rating of restaurants with online delivery: {average_rating_with_delivery}\")\n",
        "print(f\"Average rating of restaurants without online delivery: {average_rating_without_delivery}\")"
      ],
      "metadata": {
        "colab": {
          "base_uri": "https://localhost:8080/"
        },
        "id": "bUgE9kja244R",
        "outputId": "d3378ddc-1253-4c6e-f234-55e041822c9a"
      },
      "execution_count": 58,
      "outputs": [
        {
          "output_type": "stream",
          "name": "stdout",
          "text": [
            "Percentage of restaurants with online delivery: 25.662234321013504%\n",
            "Average rating of restaurants with online delivery: 3.2488372093023257\n",
            "Average rating of restaurants without online delivery: 2.465295774647887\n"
          ]
        }
      ]
    }
  ]
}